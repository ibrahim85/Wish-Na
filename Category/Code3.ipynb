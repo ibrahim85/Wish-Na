{
 "cells": [
  {
   "cell_type": "code",
   "execution_count": 0,
   "metadata": {
    "colab": {},
    "colab_type": "code",
    "id": "03Ep1vAHvzmV"
   },
   "outputs": [],
   "source": [
    "import pandas as pd\n",
    "import numpy as np"
   ]
  },
  {
   "cell_type": "markdown",
   "metadata": {
    "colab_type": "text",
    "id": "5_igdtICwFcl"
   },
   "source": [
    "# Calculations:"
   ]
  },
  {
   "cell_type": "code",
   "execution_count": 18,
   "metadata": {
    "colab": {
     "base_uri": "https://localhost:8080/",
     "height": 417
    },
    "colab_type": "code",
    "id": "qUV2uRAlyqze",
    "outputId": "eef4cef4-a45a-4587-a893-3f5d9cea0d37"
   },
   "outputs": [
    {
     "data": {
      "text/html": [
       "<div>\n",
       "<style scoped>\n",
       "    .dataframe tbody tr th:only-of-type {\n",
       "        vertical-align: middle;\n",
       "    }\n",
       "\n",
       "    .dataframe tbody tr th {\n",
       "        vertical-align: top;\n",
       "    }\n",
       "\n",
       "    .dataframe thead th {\n",
       "        text-align: right;\n",
       "    }\n",
       "</style>\n",
       "<table border=\"1\" class=\"dataframe\">\n",
       "  <thead>\n",
       "    <tr style=\"text-align: right;\">\n",
       "      <th></th>\n",
       "      <th>Unnamed: 0</th>\n",
       "      <th>Page</th>\n",
       "      <th>Source/Medium</th>\n",
       "      <th>Page Views</th>\n",
       "      <th>Users</th>\n",
       "      <th>Sessions</th>\n",
       "      <th>Pages/Session</th>\n",
       "      <th>Hits</th>\n",
       "      <th>Query Length</th>\n",
       "      <th>Query</th>\n",
       "      <th>Category</th>\n",
       "      <th>Unnamed: 11</th>\n",
       "    </tr>\n",
       "  </thead>\n",
       "  <tbody>\n",
       "    <tr>\n",
       "      <th>0</th>\n",
       "      <td>5432.0</td>\n",
       "      <td>/search-apo/children, gender</td>\n",
       "      <td>(direct) / (none)</td>\n",
       "      <td>4</td>\n",
       "      <td>1</td>\n",
       "      <td>0</td>\n",
       "      <td>0.0</td>\n",
       "      <td>4</td>\n",
       "      <td>2</td>\n",
       "      <td>children, gender</td>\n",
       "      <td>1</td>\n",
       "      <td>NaN</td>\n",
       "    </tr>\n",
       "    <tr>\n",
       "      <th>1</th>\n",
       "      <td>4338.0</td>\n",
       "      <td>/search-apo/gender</td>\n",
       "      <td>wdni-au.aventedge.com / referral</td>\n",
       "      <td>1</td>\n",
       "      <td>1</td>\n",
       "      <td>0</td>\n",
       "      <td>0.0</td>\n",
       "      <td>1</td>\n",
       "      <td>1</td>\n",
       "      <td>gender</td>\n",
       "      <td>1</td>\n",
       "      <td>NaN</td>\n",
       "    </tr>\n",
       "    <tr>\n",
       "      <th>2</th>\n",
       "      <td>4356.0</td>\n",
       "      <td>/search-apo/gender tool box</td>\n",
       "      <td>APO Subscribers / email</td>\n",
       "      <td>1</td>\n",
       "      <td>1</td>\n",
       "      <td>0</td>\n",
       "      <td>0.0</td>\n",
       "      <td>1</td>\n",
       "      <td>3</td>\n",
       "      <td>gender tool box</td>\n",
       "      <td>1</td>\n",
       "      <td>NaN</td>\n",
       "    </tr>\n",
       "    <tr>\n",
       "      <th>3</th>\n",
       "      <td>11575.0</td>\n",
       "      <td>/search-apo/racism in australia</td>\n",
       "      <td>(direct) / (none)</td>\n",
       "      <td>1</td>\n",
       "      <td>1</td>\n",
       "      <td>0</td>\n",
       "      <td>0.0</td>\n",
       "      <td>1</td>\n",
       "      <td>3</td>\n",
       "      <td>racism in australia</td>\n",
       "      <td>1</td>\n",
       "      <td>NaN</td>\n",
       "    </tr>\n",
       "    <tr>\n",
       "      <th>4</th>\n",
       "      <td>11890.0</td>\n",
       "      <td>/search-apo/Responding to ‘Revenge Pornography...</td>\n",
       "      <td>(direct) / (none)</td>\n",
       "      <td>1</td>\n",
       "      <td>1</td>\n",
       "      <td>0</td>\n",
       "      <td>0.0</td>\n",
       "      <td>1</td>\n",
       "      <td>8</td>\n",
       "      <td>Responding to ‘Revenge Pornography’: Prevalenc...</td>\n",
       "      <td>1</td>\n",
       "      <td>NaN</td>\n",
       "    </tr>\n",
       "  </tbody>\n",
       "</table>\n",
       "</div>"
      ],
      "text/plain": [
       "   Unnamed: 0  ... Unnamed: 11\n",
       "0      5432.0  ...         NaN\n",
       "1      4338.0  ...         NaN\n",
       "2      4356.0  ...         NaN\n",
       "3     11575.0  ...         NaN\n",
       "4     11890.0  ...         NaN\n",
       "\n",
       "[5 rows x 12 columns]"
      ]
     },
     "execution_count": 18,
     "metadata": {
      "tags": []
     },
     "output_type": "execute_result"
    }
   ],
   "source": [
    "path_to_categories_csv='/content/Categorized_Queries.csv'\n",
    "categ_df=categorized=pd.read_csv(path_to_categories_csv)\n",
    "categ_df.head()"
   ]
  },
  {
   "cell_type": "code",
   "execution_count": 0,
   "metadata": {
    "colab": {},
    "colab_type": "code",
    "id": "-G9u85qey1ab"
   },
   "outputs": [],
   "source": [
    "session_types=categ_df['Source/Medium'].tolist()\n",
    "categories=categ_df['Category'].tolist()\n",
    "lengths_list=categ_df['Query Length'].tolist()"
   ]
  },
  {
   "cell_type": "code",
   "execution_count": 20,
   "metadata": {
    "colab": {
     "base_uri": "https://localhost:8080/",
     "height": 33
    },
    "colab_type": "code",
    "id": "FC5KVPjm0guk",
    "outputId": "f6cc395e-5842-4fa5-d2c1-a3ede7d9e385"
   },
   "outputs": [
    {
     "data": {
      "text/plain": [
       "array([1, 2, 3, 4, 5, 6, 7, 8])"
      ]
     },
     "execution_count": 20,
     "metadata": {
      "tags": []
     },
     "output_type": "execute_result"
    }
   ],
   "source": [
    "np.unique(categories)"
   ]
  },
  {
   "cell_type": "code",
   "execution_count": 0,
   "metadata": {
    "colab": {},
    "colab_type": "code",
    "id": "SxHm9TIJ0NE7"
   },
   "outputs": [],
   "source": [
    "categs_list=[i for i in range(1,9)]\n",
    "counts=[0 for i in range(1,9)]"
   ]
  },
  {
   "cell_type": "code",
   "execution_count": 0,
   "metadata": {
    "colab": {},
    "colab_type": "code",
    "id": "HlhZpcHHzYdu"
   },
   "outputs": [],
   "source": [
    "\n",
    "#Initialize all to zeros (prepare to start counting):\n",
    "\n",
    "count_per_category=dict(zip(categs_list,counts))\n",
    "count_per_categ_internal=dict(zip(categs_list,counts))\n",
    "count_per_categ_external=dict(zip(categs_list,counts))\n",
    "\n",
    "cumulative_length_per_categ_internal=dict(zip(categs_list,counts))\n",
    "cumulative_length_per_categ_external=dict(zip(categs_list,counts))\n",
    "cumulative_length_per_categ=dict(zip(categs_list,counts))\n",
    "\n",
    "ex_queries=0\n",
    "in_queries=0\n",
    "##########################################\n",
    "for i,ses_tp in enumerate(session_types):\n",
    "  if(ses_tp.find('direct')!=-1): #internal\n",
    "    count_per_category[categories[i]]+=1\n",
    "    count_per_categ_internal[categories[i]]+=1\n",
    "    \n",
    "    cumulative_length_per_categ_internal[categories[i]]+=lengths_list[i]\n",
    "    cumulative_length_per_categ[categories[i]]+=lengths_list[i]\n",
    "    \n",
    "    in_queries+=1\n",
    "  else:\n",
    "    count_per_category[categories[i]]+=1\n",
    "    count_per_categ_external[categories[i]]+=1\n",
    "    \n",
    "    cumulative_length_per_categ_external[categories[i]]+=lengths_list[i]\n",
    "    cumulative_length_per_categ[categories[i]]+=lengths_list[i]\n",
    "    \n",
    "    ex_queries+=1\n",
    "      \n",
    "    "
   ]
  },
  {
   "cell_type": "code",
   "execution_count": 33,
   "metadata": {
    "colab": {
     "base_uri": "https://localhost:8080/",
     "height": 67
    },
    "colab_type": "code",
    "id": "4R4HHVrtHN6B",
    "outputId": "33bdf260-c89b-449b-9f5e-5259bcd1434d"
   },
   "outputs": [
    {
     "name": "stdout",
     "output_type": "stream",
     "text": [
      "We have 639 internal queries.\n",
      "We have 1961 external queries.\n",
      "2600\n"
     ]
    }
   ],
   "source": [
    "print 'We have '+str(in_queries)+' internal queries.'\n",
    "print 'We have '+str(ex_queries)+' external queries.'\n",
    "print len(session_types)"
   ]
  },
  {
   "cell_type": "code",
   "execution_count": 34,
   "metadata": {
    "colab": {
     "base_uri": "https://localhost:8080/",
     "height": 33
    },
    "colab_type": "code",
    "id": "gJ9sTHDrz-4E",
    "outputId": "226d743b-f9c7-4acd-a0e7-0ed597fb7d3e"
   },
   "outputs": [
    {
     "data": {
      "text/plain": [
       "{1: 26, 2: 79, 3: 115, 4: 45, 5: 80, 6: 146, 7: 93, 8: 55}"
      ]
     },
     "execution_count": 34,
     "metadata": {
      "tags": []
     },
     "output_type": "execute_result"
    }
   ],
   "source": [
    "count_per_categ_internal"
   ]
  },
  {
   "cell_type": "code",
   "execution_count": 25,
   "metadata": {
    "colab": {
     "base_uri": "https://localhost:8080/",
     "height": 33
    },
    "colab_type": "code",
    "id": "XpSU47A00AEd",
    "outputId": "bd788fc3-4e34-484b-fcd9-5ce57ba073ad"
   },
   "outputs": [
    {
     "data": {
      "text/plain": [
       "{1: 42, 2: 206, 3: 304, 4: 139, 5: 317, 6: 420, 7: 335, 8: 198}"
      ]
     },
     "execution_count": 25,
     "metadata": {
      "tags": []
     },
     "output_type": "execute_result"
    }
   ],
   "source": [
    "count_per_categ_external"
   ]
  },
  {
   "cell_type": "code",
   "execution_count": 29,
   "metadata": {
    "colab": {
     "base_uri": "https://localhost:8080/",
     "height": 33
    },
    "colab_type": "code",
    "id": "3cNKvk4czbkv",
    "outputId": "2b6f2968-d19e-43aa-ecd5-b08d79886cf2"
   },
   "outputs": [
    {
     "data": {
      "text/plain": [
       "{1: 68, 2: 285, 3: 419, 4: 184, 5: 397, 6: 566, 7: 428, 8: 253}"
      ]
     },
     "execution_count": 29,
     "metadata": {
      "tags": []
     },
     "output_type": "execute_result"
    }
   ],
   "source": [
    "count_per_category"
   ]
  },
  {
   "cell_type": "code",
   "execution_count": 0,
   "metadata": {
    "colab": {},
    "colab_type": "code",
    "id": "0yPp2tzt1I-j"
   },
   "outputs": [],
   "source": [
    "#plots here: https://docs.google.com/spreadsheets/d/1mvTiLpb5SKGkMrK7ChNkdrw4P-NWp3QG7JqcWFu5pR4/edit?usp=sharing"
   ]
  },
  {
   "cell_type": "markdown",
   "metadata": {
    "colab_type": "text",
    "id": "axy2V9Ix9A9h"
   },
   "source": [
    "# Chi-Squared Test"
   ]
  },
  {
   "cell_type": "code",
   "execution_count": 0,
   "metadata": {
    "colab": {},
    "colab_type": "code",
    "id": "f3y5FJWI8_Io"
   },
   "outputs": [],
   "source": [
    "import scipy\n",
    "\n",
    "\n",
    "\n",
    "def get_chi_statistic(in_count, ex_count, total_in_users=638.0 ,total_ex_users=1960.0 ):\n",
    "  OPER_IN=in_count\n",
    "  OPER_EX=ex_count\n",
    "  IN_RATIO=(OPER_IN/total_in_users)\n",
    "  EX_RATIO=(OPER_EX/total_ex_users)\n",
    "  EXPECTED_PERCENT= ((in_count+ex_count)/(total_in_users+total_ex_users))*100.0\n",
    "  OPER_IN_EXPECTED= (EXPECTED_PERCENT/100.0)*total_in_users\n",
    "  OPER_EX_EXPECTED= (EXPECTED_PERCENT/100.0)*total_ex_users\n",
    "\n",
    "  OPER_CHI_STATISTIC= (((OPER_EX - OPER_EX_EXPECTED)**2)/OPER_EX_EXPECTED)+(((OPER_IN - OPER_IN_EXPECTED)**2)/OPER_IN_EXPECTED)\n",
    "  OPER_CHI_STATISTIC\n",
    "  \n",
    "  observed_values=scipy.array([OPER_IN, OPER_EX])\n",
    "  expected_values=scipy.array([OPER_IN_EXPECTED,OPER_EX_EXPECTED])\n",
    "\n",
    "  print(scipy.stats.chisquare(observed_values, f_exp=expected_values))\n",
    "  \n",
    "  \n",
    "  return OPER_CHI_STATISTIC, IN_RATIO*100, EX_RATIO*100, EXPECTED_PERCENT"
   ]
  },
  {
   "cell_type": "code",
   "execution_count": 12,
   "metadata": {
    "colab": {
     "base_uri": "https://localhost:8080/",
     "height": 284
    },
    "colab_type": "code",
    "id": "50NyJAv1AsHc",
    "outputId": "7e0376e2-01d9-4639-d25b-8f1bdc20cf8c"
   },
   "outputs": [
    {
     "name": "stdout",
     "output_type": "stream",
     "text": [
      "For ctg:1\n",
      "Power_divergenceResult(statistic=6.866761939885671, pvalue=0.008781362254812597)\n",
      "For ctg:2\n",
      "Power_divergenceResult(statistic=1.537996760822793, pvalue=0.21491622974767768)\n",
      "For ctg:3\n",
      "Power_divergenceResult(statistic=1.8875361961245571, pvalue=0.1694800762158305)\n",
      "For ctg:4\n",
      "Power_divergenceResult(statistic=0.0010097166166453235, pvalue=0.9746506555682125)\n",
      "For ctg:5\n",
      "Power_divergenceResult(statistic=4.160294469090118, pvalue=0.04138220900686255)\n",
      "For ctg:6\n",
      "Power_divergenceResult(statistic=0.4680040320347383, pvalue=0.49390684300250953)\n",
      "For ctg:7\n",
      "Power_divergenceResult(statistic=1.8480800568843223, pvalue=0.17400686032100315)\n",
      "For ctg:8\n",
      "Power_divergenceResult(statistic=1.0846066762537108, pvalue=0.29766929208183707)\n"
     ]
    }
   ],
   "source": [
    "from scipy import stats\n",
    "chi_sqrd_stats=dict(zip(categs_list,counts))\n",
    "for ctg in categs_list:\n",
    "  print 'For ctg:'+str(ctg)\n",
    "  chi_sqrd_stats[ctg]=get_chi_statistic(count_per_categ_internal[ctg], count_per_categ_external[ctg])"
   ]
  },
  {
   "cell_type": "markdown",
   "metadata": {
    "colab_type": "text",
    "id": "wwX9lcypCOa6"
   },
   "source": [
    "1- Rules for Sexuality, gender, and race\n",
    " \n",
    "2- Education, history, employment, and Professionality :: includes conferences and events. Management.\n",
    "\n",
    "3- Safety, Health, and Sports :: diseases :: includes drug usage :: food and diets here  :: Activities\n",
    "\n",
    "\n",
    "4- Technology, Art, and Media Usage ::: ART :: Comp.Sci. here::Social media is here, not in society. Includes: electronics, and advertisements.\n",
    "\n",
    "\n",
    "5- Society, Family, culture, ethnicity or religion :: cImprisonment here :: ethics here :: immigration policy.\n",
    "\n",
    "\n",
    "6- Government, politics, economics, and Environment:: law\n",
    "6\n",
    "\n",
    "7- Country, people, or things :: includes institutions\n",
    "\n",
    "\n",
    "8- other or undetermined:\n",
    "Several topics noone stronger, ununderstood terms, acronyms., parts of sentences, incomplete queries."
   ]
  },
  {
   "cell_type": "code",
   "execution_count": 13,
   "metadata": {
    "colab": {
     "base_uri": "https://localhost:8080/",
     "height": 418
    },
    "colab_type": "code",
    "id": "QA2QBHDjAyoR",
    "outputId": "ca6d5de7-01aa-45e0-8162-3cda1a712735"
   },
   "outputs": [
    {
     "name": "stdout",
     "output_type": "stream",
     "text": [
      "Statistic for category: 1\n",
      "(6.866761939885671, 4.075235109717868, 2.142857142857143, 2.617397998460354)\n",
      "-----------------------------------------------\n",
      "Statistic for category: 2\n",
      "(1.537996760822793, 12.38244514106583, 10.510204081632653, 10.969976905311778)\n",
      "-----------------------------------------------\n",
      "Statistic for category: 3\n",
      "(1.8875361961245571, 18.025078369905955, 15.510204081632653, 16.127790608160122)\n",
      "-----------------------------------------------\n",
      "Statistic for category: 4\n",
      "(0.0010097166166453235, 7.053291536050156, 7.091836734693878, 7.082371054657428)\n",
      "-----------------------------------------------\n",
      "Statistic for category: 5\n",
      "(4.160294469090118, 12.539184952978054, 16.1734693877551, 15.280985373364125)\n",
      "-----------------------------------------------\n",
      "Statistic for category: 6\n",
      "(0.4680040320347383, 22.884012539184955, 21.428571428571427, 21.78598922247883)\n",
      "-----------------------------------------------\n",
      "Statistic for category: 7\n",
      "(1.8480800568843223, 14.576802507836991, 17.091836734693878, 16.474210931485757)\n",
      "-----------------------------------------------\n",
      "Statistic for category: 8\n",
      "(1.0846066762537108, 8.620689655172415, 10.10204081632653, 9.738260200153965)\n",
      "-----------------------------------------------\n"
     ]
    }
   ],
   "source": [
    "for ctg in categs_list:\n",
    "  print 'Statistic for category: '+str(ctg)\n",
    "  print chi_sqrd_stats[ctg]\n",
    "  print \"-----------------------------------------------\""
   ]
  },
  {
   "cell_type": "markdown",
   "metadata": {
    "colab_type": "text",
    "id": "tF7v7hrJUrZ1"
   },
   "source": [
    "# Query Length Per Category:"
   ]
  },
  {
   "cell_type": "code",
   "execution_count": 0,
   "metadata": {
    "colab": {},
    "colab_type": "code",
    "id": "6FKPx_rKzKEm"
   },
   "outputs": [],
   "source": [
    "import csv\n",
    "\n",
    "with open('avg_query_length_per_category.csv', 'wb') as myfile:\n",
    "    wr = csv.writer(myfile, quoting=csv.QUOTE_ALL)\n",
    "    wr.writerow(['Category','Internal Length','External Length','Average Length'])\n",
    "    for i in range(1,9): #loop over categories\n",
    "      avg_length_internal= cumulative_length_per_categ_internal[i]/float(count_per_categ_internal[i])\n",
    "      avg_length_external=cumulative_length_per_categ_external[i]/float(count_per_categ_external[i])\n",
    "      avg_length_total=cumulative_length_per_categ[i]/float(count_per_category[i])\n",
    "      wr.writerow([i,avg_length_internal,avg_length_external,avg_length_total])"
   ]
  },
  {
   "cell_type": "code",
   "execution_count": 50,
   "metadata": {
    "colab": {
     "base_uri": "https://localhost:8080/",
     "height": 33
    },
    "colab_type": "code",
    "id": "Kb901u9q188g",
    "outputId": "c8dbce75-b3a2-43d6-fd3e-c2c37f03e8f4"
   },
   "outputs": [
    {
     "data": {
      "text/plain": [
       "{1: 207, 2: 762, 3: 1126, 4: 566, 5: 1173, 6: 1857, 7: 788, 8: 470}"
      ]
     },
     "execution_count": 50,
     "metadata": {
      "tags": []
     },
     "output_type": "execute_result"
    }
   ],
   "source": [
    "cumulative_length_per_categ"
   ]
  },
  {
   "cell_type": "code",
   "execution_count": 51,
   "metadata": {
    "colab": {
     "base_uri": "https://localhost:8080/",
     "height": 33
    },
    "colab_type": "code",
    "id": "0pl-13p22Uz1",
    "outputId": "14a4d06a-db41-4ac5-e6c4-4bc5980452b6"
   },
   "outputs": [
    {
     "data": {
      "text/plain": [
       "{1: 68, 2: 285, 3: 419, 4: 184, 5: 397, 6: 566, 7: 428, 8: 253}"
      ]
     },
     "execution_count": 51,
     "metadata": {
      "tags": []
     },
     "output_type": "execute_result"
    }
   ],
   "source": [
    "count_per_category"
   ]
  },
  {
   "cell_type": "code",
   "execution_count": 52,
   "metadata": {
    "colab": {
     "base_uri": "https://localhost:8080/",
     "height": 33
    },
    "colab_type": "code",
    "id": "DyV57PUP2rPm",
    "outputId": "9471c8f8-1088-4eba-c641-11279ad64b2c"
   },
   "outputs": [
    {
     "data": {
      "text/plain": [
       "{1: 207, 2: 762, 3: 1126, 4: 566, 5: 1173, 6: 1857, 7: 788, 8: 470}"
      ]
     },
     "execution_count": 52,
     "metadata": {
      "tags": []
     },
     "output_type": "execute_result"
    }
   ],
   "source": [
    "cumulative_length_per_categ"
   ]
  },
  {
   "cell_type": "code",
   "execution_count": 0,
   "metadata": {
    "colab": {},
    "colab_type": "code",
    "id": "LhFf7Txe3HCr"
   },
   "outputs": [],
   "source": []
  },
  {
   "cell_type": "code",
   "execution_count": 0,
   "metadata": {
    "colab": {},
    "colab_type": "code",
    "id": "TaNAtohY_U1e"
   },
   "outputs": [],
   "source": []
  },
  {
   "cell_type": "markdown",
   "metadata": {
    "colab_type": "text",
    "id": "WDpAe6MTYZvq"
   },
   "source": [
    "# 3 Query with Operator Results (Per Category):"
   ]
  },
  {
   "cell_type": "code",
   "execution_count": 0,
   "metadata": {
    "colab": {},
    "colab_type": "code",
    "id": "LTaZosdF_4en"
   },
   "outputs": [],
   "source": [
    "import re\n",
    "\n",
    "def Is_Operator_Used(Operator,query):\n",
    "  if(Operator=='()'):\n",
    "    match = re.search(r'(\\(.*\\))', query)\n",
    "  elif(Operator=='\"\"'):\n",
    "     match = re.search(r'(\\\".*\\\")', query)\n",
    "  elif(Operator==\"AND\"):\n",
    "    match1 = re.search(r'(\\sAND\\s)', query)\n",
    "    match2= re.search(r'(\\sNOT\\s)', query)\n",
    "    if(match1 and match2):\n",
    "      match=False\n",
    "    else:\n",
    "      match=match1\n",
    "  elif(Operator==\"OR\"):\n",
    "    match = re.search(r'(\\sOR\\s)', query)\n",
    "  elif (Operator=='+'):\n",
    "    match = re.search(\"(\\+\\S*)\", query)\n",
    "  elif (Operator=='-'):\n",
    "    match=re.search(\"(\\s+\\-\\S+)\", query)\n",
    "  elif (Operator==\"AND NOT\"):\n",
    "    match = re.search(r'(\\sAND\\s*NOT\\s)', query)\n",
    "  else:\n",
    "    print(\"WRONG OPERATOR\")\n",
    "    return False\n",
    "  \n",
    "  if(match):\n",
    "    return True\n",
    "  else:\n",
    "    return False\n"
   ]
  },
  {
   "cell_type": "code",
   "execution_count": 0,
   "metadata": {
    "colab": {},
    "colab_type": "code",
    "id": "hFTo4e5m_m3Q"
   },
   "outputs": [],
   "source": [
    "queries=categ_df['Query'].tolist()\n",
    "queries=[str(x) for x in queries]"
   ]
  },
  {
   "cell_type": "markdown",
   "metadata": {
    "colab_type": "text",
    "id": "4HcDt4sKYeBC"
   },
   "source": [
    "## 3.1 AND"
   ]
  },
  {
   "cell_type": "code",
   "execution_count": 71,
   "metadata": {
    "colab": {
     "base_uri": "https://localhost:8080/",
     "height": 33
    },
    "colab_type": "code",
    "id": "HIAXYF40nBKe",
    "outputId": "80d1a639-6005-4adc-a4a9-8bb1046968af"
   },
   "outputs": [
    {
     "name": "stdout",
     "output_type": "stream",
     "text": [
      "There are 31 queries using the operator AND\n"
     ]
    }
   ],
   "source": [
    "#1 AND\n",
    "\n",
    "AND_indices=[]\n",
    "for i,query in enumerate(queries):\n",
    "  try:\n",
    "    if(Is_Operator_Used(\"AND\",query)):\n",
    "      AND_indices.append(i)\n",
    "  except:\n",
    "    print query, type(query)\n",
    "    \n",
    "AND_queries=np.array(queries)[AND_indices]\n",
    "print 'There are '+str(len(AND_queries))+' queries using the operator AND'"
   ]
  },
  {
   "cell_type": "markdown",
   "metadata": {
    "colab_type": "text",
    "id": "FKdhYjbGYf1y"
   },
   "source": [
    "## 3.2 OR"
   ]
  },
  {
   "cell_type": "code",
   "execution_count": 72,
   "metadata": {
    "colab": {
     "base_uri": "https://localhost:8080/",
     "height": 33
    },
    "colab_type": "code",
    "id": "d16zL_t4QKxo",
    "outputId": "56589d51-c4b0-44be-fbfa-253b40dc829d"
   },
   "outputs": [
    {
     "name": "stdout",
     "output_type": "stream",
     "text": [
      "There are 11 queries using the operator OR\n"
     ]
    }
   ],
   "source": [
    "#2 OR\n",
    "\n",
    "OR_indices=[]\n",
    "for i,query in enumerate(queries):\n",
    "  if(Is_Operator_Used(\"OR\",query)):\n",
    "    OR_indices.append(i)\n",
    "OR_queries=np.array(queries)[OR_indices]\n",
    "print 'There are '+str(len(OR_queries))+' queries using the operator OR'"
   ]
  },
  {
   "cell_type": "markdown",
   "metadata": {
    "colab_type": "text",
    "id": "vbPfQJJkYi7Q"
   },
   "source": [
    "## 3.3 AND NOT"
   ]
  },
  {
   "cell_type": "code",
   "execution_count": 73,
   "metadata": {
    "colab": {
     "base_uri": "https://localhost:8080/",
     "height": 33
    },
    "colab_type": "code",
    "id": "EINV_7pTOo8w",
    "outputId": "1797f13f-4608-4047-edef-c45360902b99"
   },
   "outputs": [
    {
     "name": "stdout",
     "output_type": "stream",
     "text": [
      "There are 0 queries using the operator AND NOT\n"
     ]
    }
   ],
   "source": [
    "#3 AND NOT\n",
    "\n",
    "ANDNOT_indices=[]\n",
    "for i,query in enumerate(queries):\n",
    "  if(Is_Operator_Used(\"AND NOT\",query)):\n",
    "    ANDNOT_indices.append(i)\n",
    "ANDNOT_queries=np.array(queries)[ANDNOT_indices]\n",
    "print 'There are '+str(len(ANDNOT_queries))+' queries using the operator AND NOT'"
   ]
  },
  {
   "cell_type": "code",
   "execution_count": 74,
   "metadata": {
    "colab": {
     "base_uri": "https://localhost:8080/",
     "height": 33
    },
    "colab_type": "code",
    "id": "Tt_YcXRRRYHp",
    "outputId": "c1f34035-0f86-4e26-f076-56403bbb2d9c"
   },
   "outputs": [
    {
     "name": "stdout",
     "output_type": "stream",
     "text": [
      "[]\n"
     ]
    }
   ],
   "source": [
    "print ANDNOT_queries"
   ]
  },
  {
   "cell_type": "markdown",
   "metadata": {
    "colab_type": "text",
    "id": "7zQVcRYjYlnx"
   },
   "source": [
    "## 3.4 Brackets"
   ]
  },
  {
   "cell_type": "code",
   "execution_count": 75,
   "metadata": {
    "colab": {
     "base_uri": "https://localhost:8080/",
     "height": 33
    },
    "colab_type": "code",
    "id": "lt908CjIRZuC",
    "outputId": "72f3b96b-0a05-49cf-b84f-ed089bab7acf"
   },
   "outputs": [
    {
     "name": "stdout",
     "output_type": "stream",
     "text": [
      "There are 20 queries using the operator \"()\"\n"
     ]
    }
   ],
   "source": [
    "#4 BRACKETS\n",
    "\n",
    "BRACKETS_indices=[]\n",
    "for i,query in enumerate(queries):\n",
    "  if(Is_Operator_Used(\"()\",query)):\n",
    "    BRACKETS_indices.append(i)\n",
    "BRACKETS_queries=np.array(queries)[BRACKETS_indices]\n",
    "print 'There are '+str(len(BRACKETS_queries))+' queries using the operator \"()\"'"
   ]
  },
  {
   "cell_type": "code",
   "execution_count": 76,
   "metadata": {
    "colab": {
     "base_uri": "https://localhost:8080/",
     "height": 371
    },
    "colab_type": "code",
    "id": "h92ycfR0RnSm",
    "outputId": "103e7777-0b47-4f7c-953b-65d9e5d29b02"
   },
   "outputs": [
    {
     "name": "stdout",
     "output_type": "stream",
     "text": [
      "['(caregivers OR carers) AND mental health'\n",
      " '(computer OR digital) AND (Skills OR literacy)'\n",
      " '(computer OR digital) AND (Skills OR literacy)'\n",
      " '(computer OR digital) AND (Skills OR literacy)'\n",
      " 'National Data Guardian (United Kingdom)'\n",
      " '\"artificial intelligence\" and (bank* or financ*)'\n",
      " '(mother OR mum OR woman OR maternal OR pregnancy) (group OR class OR club OR meeting OR program) (antenatal OR baby OR babies OR'\n",
      " 'the Crimes Legislation Amendment (Serious and Organised Crime) Bill 2009'\n",
      " '(indigenous OR aboriginal) AND critical discourse analysis'\n",
      " '\"The Specialist Homelessness Sector transition plan (2018-2022)\"'\n",
      " 'Steering Committee for the Review of Government Service Provision (2016),'\n",
      " 'Steering Committee for the Review of Government Service Provision (2016),'\n",
      " 'ureau of Transport Statistics (2014). Release Employment Forecasts'\n",
      " 'impact AND (framework* OR pathway* OR tool* OR measur* OR categor* OR demonstr* OR evaluat* OR method* OR model* OR metric*)'\n",
      " 'impact AND (framework* OR pathway* OR tool* OR measur* OR categor* OR demonstr* OR evaluat* OR method* OR model* OR metric*)'\n",
      " 'impact AND (framework* OR pathway* OR tool* OR measur* OR categor* OR demonstr* OR evaluat* OR method* OR model* OR metric*)'\n",
      " 'IBAC (Vic) 2016. Operation Ross: an investigation into police conduct in the Ballarat Police Service Area Allegations of excess'\n",
      " 'Swinburne University of Technology (Sarawak Campus)'\n",
      " 'Dietrich v The Queen (1992) 177 CLR 292'\n",
      " 'Parliamentary Library (Australia)']\n"
     ]
    }
   ],
   "source": [
    "print BRACKETS_queries"
   ]
  },
  {
   "cell_type": "markdown",
   "metadata": {
    "colab_type": "text",
    "id": "eZeXXO9uYo9H"
   },
   "source": [
    "## 3.5 Plus"
   ]
  },
  {
   "cell_type": "code",
   "execution_count": 77,
   "metadata": {
    "colab": {
     "base_uri": "https://localhost:8080/",
     "height": 33
    },
    "colab_type": "code",
    "id": "MiHlLWT8RpMF",
    "outputId": "63ec6553-7f0a-4a7a-cc29-6fe256ed49b0"
   },
   "outputs": [
    {
     "name": "stdout",
     "output_type": "stream",
     "text": [
      "There are 1 queries using the operator \"+\"\n"
     ]
    }
   ],
   "source": [
    "#4 PLUS\n",
    "\n",
    "PLUS_indices=[]\n",
    "for i,query in enumerate(queries):\n",
    "  if(Is_Operator_Used(\"+\",query)):\n",
    "    PLUS_indices.append(i)\n",
    "PLUS_queries=np.array(queries)[PLUS_indices]\n",
    "print 'There are '+str(len(PLUS_queries))+' queries using the operator \"+\"'"
   ]
  },
  {
   "cell_type": "code",
   "execution_count": 78,
   "metadata": {
    "colab": {
     "base_uri": "https://localhost:8080/",
     "height": 33
    },
    "colab_type": "code",
    "id": "uQsQVevhRzgT",
    "outputId": "ca74a8b9-1fc8-4763-c682-e48a37c939b3"
   },
   "outputs": [
    {
     "name": "stdout",
     "output_type": "stream",
     "text": [
      "['Housing + forecasts']\n"
     ]
    }
   ],
   "source": [
    "print PLUS_queries"
   ]
  },
  {
   "cell_type": "markdown",
   "metadata": {
    "colab_type": "text",
    "id": "J57ER9GHYs8z"
   },
   "source": [
    "## 3.6 Minus"
   ]
  },
  {
   "cell_type": "code",
   "execution_count": 79,
   "metadata": {
    "colab": {
     "base_uri": "https://localhost:8080/",
     "height": 33
    },
    "colab_type": "code",
    "id": "Jfag3NZ0R1Xh",
    "outputId": "396d18da-addc-45ed-f720-6bfe7cd92237"
   },
   "outputs": [
    {
     "name": "stdout",
     "output_type": "stream",
     "text": [
      "There are 0 queries using the operator \"-\"\n"
     ]
    }
   ],
   "source": [
    "#5 MINUS\n",
    "\n",
    "MINUS_indices=[]\n",
    "for i,query in enumerate(queries):\n",
    "  if(Is_Operator_Used(\"-\",query)):\n",
    "    MINUS_indices.append(i)\n",
    "MINUS_queries=np.array(queries)[MINUS_indices]\n",
    "print 'There are '+str(len(MINUS_queries))+' queries using the operator \"-\"'"
   ]
  },
  {
   "cell_type": "code",
   "execution_count": 80,
   "metadata": {
    "colab": {
     "base_uri": "https://localhost:8080/",
     "height": 33
    },
    "colab_type": "code",
    "id": "e_gz99iAR-Do",
    "outputId": "abc37da5-5ec8-44f2-c443-1b882346d03c"
   },
   "outputs": [
    {
     "name": "stdout",
     "output_type": "stream",
     "text": [
      "[]\n"
     ]
    }
   ],
   "source": [
    "print MINUS_queries"
   ]
  },
  {
   "cell_type": "markdown",
   "metadata": {
    "colab_type": "text",
    "id": "Uluxh3T2YwDT"
   },
   "source": [
    "## 3.7 Quote"
   ]
  },
  {
   "cell_type": "code",
   "execution_count": 81,
   "metadata": {
    "colab": {
     "base_uri": "https://localhost:8080/",
     "height": 33
    },
    "colab_type": "code",
    "id": "nuxL-qPjR_RL",
    "outputId": "9fd20859-446a-4a57-be2f-3f8ce67376f1"
   },
   "outputs": [
    {
     "name": "stdout",
     "output_type": "stream",
     "text": [
      "There are 65 queries using the operator \"\"\n"
     ]
    }
   ],
   "source": [
    "#6 QUOTE\n",
    "\n",
    "QUOTE_indices=[]\n",
    "for i,query in enumerate(queries):\n",
    "  if(Is_Operator_Used('\"\"',query)):\n",
    "    QUOTE_indices.append(i)\n",
    "QUOTE_queries=np.array(queries)[QUOTE_indices]\n",
    "print 'There are '+str(len(QUOTE_queries))+' queries using the operator \"\"'\n"
   ]
  },
  {
   "cell_type": "code",
   "execution_count": 82,
   "metadata": {
    "colab": {
     "base_uri": "https://localhost:8080/",
     "height": 602
    },
    "colab_type": "code",
    "id": "WLCiXZrnSNvi",
    "outputId": "b4d77024-67a3-4d26-8e65-f159447e4d43"
   },
   "outputs": [
    {
     "name": "stdout",
     "output_type": "stream",
     "text": [
      "['closing the gap \"education\"' '\"literacy screening test\"'\n",
      " '\"Towards a level playing field\"' '\"general duty\"'\n",
      " '\"book authors and their changing circumstances\"' '\"digital health\"'\n",
      " '\"Indigenous HIV\"' '\"caregivers\" AND \"schizophrenia\" AND \"bipolar\"'\n",
      " '\"alcohol labeling\"' '\"digital health\" AND evaluation'\n",
      " '\"digital health\" or \"digital medicine\" or \"electronic health\" or \"ehealth\"'\n",
      " 'ehealth OR \"digital health\"' '\"Digital health\"'\n",
      " '\"Australia\\'s health 2018\"' '\"research evidence\" \"public health\"'\n",
      " '\"Strengthening palliative care\"' '\"doctor shopping\"'\n",
      " 'detention AND protection AND children AND \"Northern territory\"'\n",
      " '\"Digital health\"' '\"Digital health\"' '\"Digital health\"' '\"social media\"'\n",
      " '\"violent media\" and violence and cause and games and music'\n",
      " '\"Digital Health\"'\n",
      " '\\xe2\\x80\\x9cmusic strategy\\xe2\\x80\\x9d and \"analysis\"'\n",
      " '\"automated vehicles\" AND \"CTP Insurance\"'\n",
      " '\"artificial intelligence\" and (bank* or financ*)' '\"modern slavery\"'\n",
      " '\"Public sector ethics\"' '\"dementia in prison\"' '\"homeless children\"'\n",
      " '\"investment fund\" AND \"social care\"'\n",
      " '\"constitution\" and \"recognition\" and \"aboriginal\"'\n",
      " '\"aboriginal and torres strait islander\" AND policy AND segregation'\n",
      " '\"The Specialist Homelessness Sector transition plan (2018-2022)\"'\n",
      " '\"volunteer\"' '\"constitution\" and \"recognition\" and \"aboriginal\"'\n",
      " '\"international migration\"' '\"sovereign wealth fund\"' '\"clean energy\"'\n",
      " '\"MABO DECISION, LAND RIGHTS AND NATIVE TITLE\"' '\"sovereign fund\"'\n",
      " '\"IVA per worker in small firms in Agriculture\"' '\"Farms Water supply\"'\n",
      " '\"Australian communications authority\"' '\"clean energy\"'\n",
      " '\"policy re-desig\"' '\"regional development\" \"project' '\"return to work\"'\n",
      " '\"Australia\" AND \"Bill of Rights\"' '\"clean energy\"'\n",
      " '\"sovereign wealth funds\" AND planet' '\"chief jprocurement officer\"'\n",
      " '\"table 1 shows the small business\"' '\"new zealand super fund\"'\n",
      " '\"investment fund\" OR \"public sector\"'\n",
      " '\\xe2\\x80\\x9cmusic\\xe2\\x80\\x9d and \"melbourne\"' '\"white night\"'\n",
      " '\"acma\" \"annual report\"' '\"retirement village\"'\n",
      " '\"loneliness\" and \"innovation\"' '\"Policy Forum\"' '\"fair and free\"'\n",
      " '\"hough, j\"' '\"first nation\"']\n"
     ]
    }
   ],
   "source": [
    "print QUOTE_queries"
   ]
  },
  {
   "cell_type": "code",
   "execution_count": 83,
   "metadata": {
    "colab": {
     "base_uri": "https://localhost:8080/",
     "height": 33
    },
    "colab_type": "code",
    "id": "BusRN_OLW66A",
    "outputId": "71701b27-d470-4d87-acc5-28faa397207b"
   },
   "outputs": [
    {
     "name": "stdout",
     "output_type": "stream",
     "text": [
      "There are 9 queries using the quote and AND operators.\n"
     ]
    }
   ],
   "source": [
    "# 7 ََQUOTE with AND:\n",
    "QUOTE_WITH_AND_indices=[]\n",
    "for i,query in enumerate(queries):\n",
    "  if(Is_Operator_Used('\"\"',query) and Is_Operator_Used('AND',query)):\n",
    "    QUOTE_WITH_AND_indices.append(i)\n",
    "QUOTE_WITH_AND_queries=np.array(queries)[QUOTE_WITH_AND_indices]\n",
    "print 'There are '+str(len(QUOTE_WITH_AND_queries))+' queries using the quote and AND operators.'"
   ]
  },
  {
   "cell_type": "code",
   "execution_count": 84,
   "metadata": {
    "colab": {
     "base_uri": "https://localhost:8080/",
     "height": 150
    },
    "colab_type": "code",
    "id": "oagNVHiSX7Q1",
    "outputId": "689c69bd-d281-48d1-f16a-45765776d8c7"
   },
   "outputs": [
    {
     "name": "stdout",
     "output_type": "stream",
     "text": [
      "['\"caregivers\" AND \"schizophrenia\" AND \"bipolar\"'\n",
      " '\"digital health\" AND evaluation'\n",
      " 'detention AND protection AND children AND \"Northern territory\"'\n",
      " '\"automated vehicles\" AND \"CTP Insurance\"'\n",
      " '\"investment fund\" AND \"social care\"'\n",
      " '\"aboriginal and torres strait islander\" AND policy AND segregation'\n",
      " '\"MABO DECISION, LAND RIGHTS AND NATIVE TITLE\"'\n",
      " '\"Australia\" AND \"Bill of Rights\"' '\"sovereign wealth funds\" AND planet']\n"
     ]
    }
   ],
   "source": [
    "print QUOTE_WITH_AND_queries"
   ]
  },
  {
   "cell_type": "code",
   "execution_count": 0,
   "metadata": {
    "colab": {},
    "colab_type": "code",
    "id": "CYI2Qe_DBOhu"
   },
   "outputs": [],
   "source": []
  },
  {
   "cell_type": "markdown",
   "metadata": {
    "colab_type": "text",
    "id": "MCtx_Ef3BRGQ"
   },
   "source": [
    "## Intersection between category type and operators:"
   ]
  },
  {
   "cell_type": "code",
   "execution_count": 0,
   "metadata": {
    "colab": {},
    "colab_type": "code",
    "id": "ob8w42qYBTmU"
   },
   "outputs": [],
   "source": [
    "def get_categories_operator_intersection(operator_indices,categories_list):\n",
    "  ''' returns counter for all categories intersection with this operators indices'''\n",
    "  categs_list=[i for i in range(1,9)]\n",
    "  counts=[0 for i in range(1,9)]\n",
    "  counter=dict(zip(categs_list,counts))\n",
    "  for indx in operator_indices:\n",
    "    counter[categories_list[indx]]+=1\n",
    "  return counter\n",
    "  "
   ]
  },
  {
   "cell_type": "code",
   "execution_count": 0,
   "metadata": {
    "colab": {},
    "colab_type": "code",
    "id": "Q4yEVmaUHQTz"
   },
   "outputs": [],
   "source": [
    "queries_indices_list=[AND_indices,OR_indices,BRACKETS_indices,PLUS_indices,MINUS_indices,QUOTE_indices]\n",
    "keys=[\"AND\",\"OR\",\"Brakckets\",\"Plus\",\"Minus\",\"Quote\"]"
   ]
  },
  {
   "cell_type": "code",
   "execution_count": 91,
   "metadata": {
    "colab": {
     "base_uri": "https://localhost:8080/",
     "height": 33
    },
    "colab_type": "code",
    "id": "d57lmfQcB6RI",
    "outputId": "2f8869c7-eb34-44df-904f-2bd9587e696a"
   },
   "outputs": [
    {
     "data": {
      "text/plain": [
       "{1: 0, 2: 0, 3: 7, 4: 4, 5: 7, 6: 9, 7: 3, 8: 1}"
      ]
     },
     "execution_count": 91,
     "metadata": {
      "tags": []
     },
     "output_type": "execute_result"
    }
   ],
   "source": [
    "get_categories_operator_intersection(AND_indices,categories)"
   ]
  },
  {
   "cell_type": "code",
   "execution_count": 0,
   "metadata": {
    "colab": {},
    "colab_type": "code",
    "id": "sxaIpxSPG_Ws"
   },
   "outputs": [],
   "source": [
    "dict_counted_words=Counter(words(query_text))\n",
    "import operator\n",
    "#sort words by their count:\n",
    "sorted_counted_words=sorted(dict_counted_words.items(), key=operator.itemgetter(1),reverse=True)\n",
    "#remove those words:\n",
    "stop_words=set(['and','of','the','in','on','for','to','s'])\n",
    "sorted_counted_words_cleaned=[x for x in sorted_counted_words if x[0] not in stop_words]"
   ]
  },
  {
   "cell_type": "code",
   "execution_count": 97,
   "metadata": {
    "colab": {
     "base_uri": "https://localhost:8080/",
     "height": 217
    },
    "colab_type": "code",
    "id": "TAEiwgGSJHnl",
    "outputId": "1bf7710e-e454-4239-966a-73cfd1792687"
   },
   "outputs": [
    {
     "name": "stdout",
     "output_type": "stream",
     "text": [
      "{1: 0, 2: 0, 3: 7, 4: 4, 5: 7, 6: 9, 7: 3, 8: 1}\n",
      "['AND', 0, 0, 7, 4, 7, 9, 3, 1]\n",
      "{1: 0, 2: 0, 3: 2, 4: 3, 5: 2, 6: 4, 7: 0, 8: 0}\n",
      "['OR', 0, 0, 2, 3, 2, 4, 0, 0]\n",
      "{1: 0, 2: 0, 3: 1, 4: 5, 5: 4, 6: 7, 7: 3, 8: 0}\n",
      "['Brakckets', 0, 0, 1, 5, 4, 7, 3, 0]\n",
      "{1: 0, 2: 0, 3: 0, 4: 0, 5: 0, 6: 1, 7: 0, 8: 0}\n",
      "['Plus', 0, 0, 0, 0, 0, 1, 0, 0]\n",
      "{1: 0, 2: 0, 3: 0, 4: 0, 5: 0, 6: 0, 7: 0, 8: 0}\n",
      "['Minus', 0, 0, 0, 0, 0, 0, 0, 0]\n",
      "{1: 0, 2: 5, 3: 13, 4: 9, 5: 11, 6: 18, 7: 5, 8: 4}\n",
      "['Quote', 0, 5, 13, 9, 11, 18, 5, 4]\n"
     ]
    }
   ],
   "source": [
    "import csv\n",
    "\n",
    "\n",
    "#WRITE TO A CSV\n",
    "\n",
    "header=['Operator']\n",
    "header.extend([str(i) for i in range(1,9)])\n",
    "\n",
    "with open('category_operator_intersection.csv', 'wb') as myfile:\n",
    "    wr = csv.writer(myfile, quoting=csv.QUOTE_ALL)\n",
    "    wr.writerow(header)\n",
    "   \n",
    "    for ky,op_list in zip(keys,queries_indices_list): #loop over operator indices\n",
    "      op_counter_dict=get_categories_operator_intersection(op_list,categories)\n",
    "      print(op_counter_dict)\n",
    "      sorted_op_counter = sorted(op_counter_dict.items(), key=lambda kv: kv[0])#sorted by category\n",
    "      sorted_op_counter=[x[1] for x in sorted_op_counter] #get the counts (values) themsevles\n",
    "      row=[ky]\n",
    "      row.extend(sorted_op_counter)\n",
    "      print row\n",
    "      wr.writerow(row)"
   ]
  },
  {
   "cell_type": "code",
   "execution_count": 0,
   "metadata": {
    "colab": {},
    "colab_type": "code",
    "id": "5_SFBNJzKlxv"
   },
   "outputs": [],
   "source": []
  }
 ],
 "metadata": {
  "colab": {
   "name": "WishNa- Task3.ipynb",
   "provenance": [],
   "toc_visible": true
  },
  "kernelspec": {
   "display_name": "Python 2",
   "language": "python",
   "name": "python2"
  },
  "language_info": {
   "codemirror_mode": {
    "name": "ipython",
    "version": 2
   },
   "file_extension": ".py",
   "mimetype": "text/x-python",
   "name": "python",
   "nbconvert_exporter": "python",
   "pygments_lexer": "ipython2",
   "version": "2.7.15"
  }
 },
 "nbformat": 4,
 "nbformat_minor": 1
}
